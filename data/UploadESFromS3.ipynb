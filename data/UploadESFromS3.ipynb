{
 "cells": [
  {
   "cell_type": "code",
   "execution_count": null,
   "metadata": {
    "collapsed": true
   },
   "outputs": [],
   "source": [
    "from elasticsearch import Elasticsearch, helpers\n",
    "from elasticsearch.client import IndicesClient\n",
    "import boto3\n",
    "import botocore\n",
    "import json\n",
    "import os\n",
    "import psycopg2"
   ]
  },
  {
   "cell_type": "code",
   "execution_count": null,
   "metadata": {
    "collapsed": true
   },
   "outputs": [],
   "source": [
    "# download from S3 bucket into memory buffer\n",
    "def xfer_from_s3(key, bucket):\n",
    "    filename='tmp.json'\n",
    "    # remove the temp file if it exists\n",
    "    try:\n",
    "        os.remove(filename)\n",
    "    except OSError:\n",
    "        pass\n",
    "    s3 = boto3.client('s3')\n",
    "    response = s3.download_file(bucket, key, filename)\n",
    "    return filename"
   ]
  },
  {
   "cell_type": "code",
   "execution_count": null,
   "metadata": {
    "collapsed": true
   },
   "outputs": [],
   "source": [
    "def connect_db():\n",
    "    DB_NAME = 'acaproject'\n",
    "    conn=psycopg2.connect(user=\"acaproject\",\n",
    "                        database=\"acaproject\",\n",
    "                        password=\"test1234\",\n",
    "                        host=\"w210.cxihwctrc5di.us-west-1.rds.amazonaws.com\",\n",
    "                        port=\"5432\")\n",
    "    return conn"
   ]
  },
  {
   "cell_type": "code",
   "execution_count": null,
   "metadata": {
    "collapsed": true
   },
   "outputs": [],
   "source": [
    "def process_formulary_into_es(fname, es):\n",
    "    status = False\n",
    "    with open(fname, 'r') as infile:\n",
    "        data=infile.read().replace('\\n', '')\n",
    "    try:\n",
    "        docs = json.loads(data)\n",
    "        actions = []\n",
    "        for doc in docs:\n",
    "            action = {\n",
    "                \"_index\": \"data\",\n",
    "                \"_type\": \"drug\",\n",
    "                \"_source\": doc\n",
    "            }\n",
    "            actions.append(action)\n",
    "        if len(actions) > 0:\n",
    "            helpers.bulk(es, actions)\n",
    "        status = True\n",
    "    except:\n",
    "        pass\n",
    "    return status"
   ]
  },
  {
   "cell_type": "code",
   "execution_count": null,
   "metadata": {
    "collapsed": false,
    "scrolled": true
   },
   "outputs": [],
   "source": [
    "db_conn = connect_db()\n",
    "cur = db_conn.cursor()\n",
    "\n",
    "es = Elasticsearch(\"https://search-acaproject-yayvqakrnkdvdfd5m6kyqonp5a.us-west-1.es.amazonaws.com/\")\n",
    "ic = IndicesClient(es)\n",
    "\n",
    "# Get the formulary documents\n",
    "cur.execute(\"SELECT id,s3key FROM jsonurls WHERE es_index is FALSE AND type=3 AND s3key is not null\")\n",
    "for id,key in cur.fetchall():\n",
    "    fname = xfer_from_s3('json/'+key, 'w210')\n",
    "    if process_formulary_into_es(fname, es):\n",
    "        update_cursor = db_conn.cursor()\n",
    "        update_cursor.execute(\"UPDATE jsonurls SET es_index=TRUE WHERE id=%(id)s\", {'id': id})\n",
    "        db_conn.commit()\n",
    "        update_cursor.close()\n",
    "\n",
    "cur.close()\n",
    "db_conn.close()"
   ]
  },
  {
   "cell_type": "code",
   "execution_count": null,
   "metadata": {
    "collapsed": true
   },
   "outputs": [],
   "source": []
  }
 ],
 "metadata": {
  "kernelspec": {
   "display_name": "Python 2",
   "language": "python",
   "name": "python2"
  },
  "language_info": {
   "codemirror_mode": {
    "name": "ipython",
    "version": 2
   },
   "file_extension": ".py",
   "mimetype": "text/x-python",
   "name": "python",
   "nbconvert_exporter": "python",
   "pygments_lexer": "ipython2",
   "version": "2.7.11"
  }
 },
 "nbformat": 4,
 "nbformat_minor": 0
}
