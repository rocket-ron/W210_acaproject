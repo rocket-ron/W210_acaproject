{
 "cells": [
  {
   "cell_type": "code",
   "execution_count": 1,
   "metadata": {
    "collapsed": false
   },
   "outputs": [],
   "source": [
    "import psycopg2"
   ]
  },
  {
   "cell_type": "markdown",
   "metadata": {},
   "source": [
    "## Create PUF URL Tracking Database\n",
    "\n",
    "This is a database with a small number of tables used to track the PUF URLs and their JSON child URLs.\n",
    "\n",
    "    psql\n",
    "    # CREATE USER ascaproject WITH PASSWORD 'password'\n",
    "    # CREATE DATABASE acaproject\n",
    "    # GRANT ALL PRIVILEGES ON DATABASE acaproject TO acaproject\n",
    "    # GRANT ALL PRIVILEGES ON DATABASE acaproject TO rcordell (or whoever the main id is)\n",
    "    # \\q\n",
    "    \n",
    "   "
   ]
  },
  {
   "cell_type": "code",
   "execution_count": 2,
   "metadata": {
    "collapsed": true
   },
   "outputs": [],
   "source": [
    "def create_tables(cursor):\n",
    "    cursor.execute(\"CREATE TABLE URLS (\"\n",
    "        \"  id SERIAL PRIMARY KEY,\"\n",
    "        \"  url TEXT NOT NULL \"\n",
    "        \")\")\n",
    "\n",
    "    cursor.execute (\n",
    "        \"CREATE TABLE URLTYPES (\"\n",
    "        \"  id SERIAL PRIMARY KEY,\"\n",
    "        \"  type TEXT NOT NULL\"\n",
    "        \")\")\n",
    "\n",
    "    cursor.execute (\n",
    "        \"CREATE TABLE RETRIEVAL_STATUS (\"\n",
    "        \"  id SERIAL PRIMARY KEY,\"\n",
    "        \"  status TEXT NOT NULL\"\n",
    "        \")\")\n",
    "\n",
    "    cursor.execute (\n",
    "        \"CREATE TABLE JSONURLS (\"\n",
    "        \"  id SERIAL PRIMARY KEY,\"\n",
    "        \"  url TEXT NOT NULL,\"\n",
    "        \"  parent_url INT references URLS(id),\"\n",
    "        \"  type int references URLTYPES(id),\"\n",
    "        \"  status INT references RETRIEVAL_STATUS(id),\"\n",
    "        \"  message TEXT, \"\n",
    "        \"  s3key TEXT \"\n",
    "        \")\")"
   ]
  },
  {
   "cell_type": "code",
   "execution_count": 3,
   "metadata": {
    "collapsed": true
   },
   "outputs": [],
   "source": [
    "def create_statics(cursor):\n",
    "    cursor.execute(\"INSERT INTO URLTYPES (type) VALUES ('PROVIDER'),('PLAN'),('FORMULARY')\")\n",
    "    cursor.execute(\"INSERT INTO RETRIEVAL_STATUS (status) VALUES ('NEW'),('PROCESSED'),('ERROR')\")"
   ]
  },
  {
   "cell_type": "code",
   "execution_count": 4,
   "metadata": {
    "collapsed": false
   },
   "outputs": [],
   "source": [
    "DB_NAME = 'acaproject'\n",
    "\n",
    "conn=psycopg2.connect(user=\"acaproject\", \n",
    "                      database=\"acaproject\", \n",
    "                      password=\"test1234\", \n",
    "                      host=\"w210.cxihwctrc5di.us-west-1.rds.amazonaws.com\",\n",
    "                      port=\"5432\")\n",
    "cur = conn.cursor()"
   ]
  },
  {
   "cell_type": "code",
   "execution_count": 5,
   "metadata": {
    "collapsed": false
   },
   "outputs": [],
   "source": [
    "create_tables(cur)\n",
    "create_statics(cur)\n",
    "conn.commit()"
   ]
  },
  {
   "cell_type": "code",
   "execution_count": 8,
   "metadata": {
    "collapsed": false
   },
   "outputs": [],
   "source": [
    "# Test an insert into the tables\n",
    "\n",
    "# First, insert a PUF URL\n",
    "cur.execute(\"INSERT INTO URLS (url) VALUES ('http://this.com'),('http://that.com')\")"
   ]
  },
  {
   "cell_type": "code",
   "execution_count": 9,
   "metadata": {
    "collapsed": false
   },
   "outputs": [],
   "source": [
    "# Next, insert a row into the jsonurl table that references the mrpuf and status and types tables\n",
    "cur.execute(\n",
    "    \"INSERT INTO JSONURLS (url, parent_url, type, status) \"\n",
    "    \"VALUES ('https://providers.json', \"\n",
    "    \"(SELECT ID FROM URLS WHERE url='http://this.com'), \"\n",
    "    \"(SELECT ID FROM URLTYPES WHERE type='PROVIDER'), \"\n",
    "    \"(SELECT ID FROM retrieval_status WHERE status='NEW'))\"\n",
    ")"
   ]
  },
  {
   "cell_type": "code",
   "execution_count": 10,
   "metadata": {
    "collapsed": false
   },
   "outputs": [],
   "source": [
    "cur.execute(\"SELECT * from JSONURLS\")"
   ]
  },
  {
   "cell_type": "code",
   "execution_count": 11,
   "metadata": {
    "collapsed": false
   },
   "outputs": [
    {
     "name": "stdout",
     "output_type": "stream",
     "text": [
      "[(1, 'https://providers.json', 1, 1, 1, None, None)]\n"
     ]
    }
   ],
   "source": [
    "print cur.fetchall()"
   ]
  },
  {
   "cell_type": "code",
   "execution_count": 12,
   "metadata": {
    "collapsed": false
   },
   "outputs": [],
   "source": [
    "cur.close()\n",
    "conn.commit()\n",
    "conn.close()"
   ]
  },
  {
   "cell_type": "markdown",
   "metadata": {},
   "source": [
    "## Process Results Files into DB\n",
    "\n",
    "I've been running the JSON download into S3 by writing the results to files and pulling those files into git. I'm going to move those results into the new Postgres database"
   ]
  },
  {
   "cell_type": "code",
   "execution_count": 1,
   "metadata": {
    "collapsed": true
   },
   "outputs": [],
   "source": [
    "import psycopg2\n",
    "import json\n",
    "import csv\n",
    "from urlparse import urlparse\n",
    "import requests\n",
    "from requests.exceptions import SSLError"
   ]
  },
  {
   "cell_type": "code",
   "execution_count": 20,
   "metadata": {
    "collapsed": true
   },
   "outputs": [],
   "source": [
    "DB_NAME = 'acaproject'\n",
    "\n",
    "conn=psycopg2.connect(user=\"acaproject\", \n",
    "                      database=\"acaproject\", \n",
    "                      password=\"test1234\", \n",
    "                      host=\"w210.cxihwctrc5di.us-west-1.rds.amazonaws.com\",\n",
    "                      port=\"5432\")\n",
    "cur = conn.cursor()"
   ]
  },
  {
   "cell_type": "code",
   "execution_count": 3,
   "metadata": {
    "collapsed": true
   },
   "outputs": [],
   "source": [
    "# reconstitute the dictionary from the file on disk\n",
    "def load_urls(urlfile):\n",
    "    urls = []\n",
    "    with open(urlfile, 'r') as infile:\n",
    "        for line in infile.readlines():\n",
    "            urls.append(json.loads(line.strip()))\n",
    "    return urls"
   ]
  },
  {
   "cell_type": "code",
   "execution_count": 4,
   "metadata": {
    "collapsed": false
   },
   "outputs": [],
   "source": [
    "csv_filename = 'machine-readable-url-puf.csv'\n",
    "provider_urlfile = 'provider-urls.txt'\n",
    "plan_urlfile = 'plan-urls.txt'\n",
    "formulary_urlfile = 'formulary-urls.txt'\n",
    "\n",
    "# load up the URL files into lists\n",
    "providers = load_urls(provider_urlfile)\n",
    "plans = load_urls(plan_urlfile)\n",
    "formularys = load_urls(formulary_urlfile)\n",
    "\n",
    "# open the CSV file and get all the top level URLs\n",
    "url_list = []\n",
    "with open(csv_filename, 'r') as csvfile:\n",
    "    count = 0\n",
    "    bad_url = 0\n",
    "    skipped = 0\n",
    "    rows = csv.DictReader(csvfile)\n",
    "    for row in rows:\n",
    "        _url = row['URL Submitted']\n",
    "        \n",
    "        if urlparse(_url).scheme:\n",
    "            if _url not in url_list:\n",
    "                url_list.append(_url)\n",
    "                cur.execute(\"INSERT INTO urls (url) VALUES (%(u)s)\", {'u': _url})\n",
    "\n",
    "conn.commit()"
   ]
  },
  {
   "cell_type": "code",
   "execution_count": 6,
   "metadata": {
    "collapsed": false
   },
   "outputs": [
    {
     "name": "stdout",
     "output_type": "stream",
     "text": [
      "SSL Error attempting to negotiate:\n",
      "https://esbgatewaypub.medica.com:443/rest/QHP/cms-data-index.json?HIOSID=57845&fmt=json\n",
      "<class 'requests.exceptions.ConnectionError'>\n",
      "(ProtocolError('Connection aborted.', BadStatusLine(\"''\",)),)\n",
      "('Connection aborted.', BadStatusLine(\"''\",))\n",
      "JSON load failed with this url:\n",
      "http://www.christushealthplan.org/nm2016healthexchangeformulary\n",
      "JSON load failed with this url:\n",
      "http://www.ohcoop.org/wp-content/uploads/99389OR-OHCOOP-data-index.json\n",
      "JSON load failed with this url:\n",
      "http://www.dentaquest.com/marketplace/md\n",
      "SSL Error attempting to negotiate:\n",
      "https://www.dominionmembers.com/index.json\n",
      "SSL Error attempting to negotiate:\n",
      "https://www.christushealthplan.org/workfiles/json/Christusdrugs.json\n",
      "SSL Error attempting to negotiate:\n",
      "https://esbgatewaypub.medica.com:443/rest/QHP/cms-data-index.json?HIOSID=20305&fmt=json\n",
      "SSL Error attempting to negotiate:\n",
      "https://secure.sierraspectrumppo.com/cmsjson/\n",
      "SSL Error attempting to negotiate:\n",
      "https://esbgatewaypub.medica.com:443/rest/QHP/cms-data-index.json?HIOSID=73751&fmt=json\n",
      "SSL Error attempting to negotiate:\n",
      "https://esbgatewaypub.medica.com:443/rest/QHP/cms-data-index.json?HIOSID=93078&fmt=json\n",
      "4148\n"
     ]
    }
   ],
   "source": [
    "# Populate the URLS table using only the unique URLS from the CSV file URLs\n",
    "errors= []\n",
    "all_urls = []\n",
    "cur.execute(\"SELECT DISTINCT url FROM urls\")\n",
    "url_list = cur.fetchall()\n",
    "\n",
    "for u in url_list:\n",
    "    try:\n",
    "        _url = u[0]\n",
    "        response = requests.get(_url)\n",
    "        links = json.loads(response.content)\n",
    "        if 'provider_urls' in links:\n",
    "            for provider_url in links['provider_urls']:\n",
    "                if provider_url not in all_urls:\n",
    "                    cur.execute(\"INSERT INTO jsonurls (url, parent_url, type, status) \"\n",
    "                                \"VALUES (%(a)s, \"\n",
    "                                \"(SELECT id FROM urls WHERE url=%(b)s), \"\n",
    "                                \"(SELECT id FROM urltypes WHERE type=%(c)s), \"\n",
    "                                \"(SELECT id FROM retrieval_status WHERE status=%(d)s)\"\n",
    "                                \")\",{'a': provider_url, \n",
    "                                     'b': _url, \n",
    "                                     'c': 'PROVIDER', \n",
    "                                     'd': 'NEW'\n",
    "                                })\n",
    "                    all_urls.append(provider_url)\n",
    "     \n",
    "        if 'formulary_urls' in links:\n",
    "            for formulary_url in links['formulary_urls']:\n",
    "                if formulary_url not in all_urls:\n",
    "                    cur.execute(\"INSERT INTO jsonurls (url, parent_url, type, status) \"\n",
    "                                \"VALUES (%(a)s, \"\n",
    "                                \"(SELECT id FROM urls WHERE url=%(b)s), \"\n",
    "                                \"(SELECT id FROM urltypes WHERE type=%(c)s), \"\n",
    "                                \"(SELECT id FROM retrieval_status WHERE status=%(d)s)\"\n",
    "                                \")\",{'a': formulary_url, \n",
    "                                     'b': _url, \n",
    "                                     'c': 'FORMULARY', \n",
    "                                     'd': 'NEW'\n",
    "                                })\n",
    "                    all_urls.append(formulary_url)\n",
    "                \n",
    "        if 'plan_urls' in links:\n",
    "            for plan_url in links['plan_urls']:\n",
    "                if plan_url not in all_urls:\n",
    "                    cur.execute(\"INSERT INTO jsonurls (url, parent_url, type, status) \"\n",
    "                                \"VALUES (%(a)s, \"\n",
    "                                \"(SELECT id FROM urls WHERE url=%(b)s), \"\n",
    "                                \"(SELECT id FROM urltypes WHERE type=%(c)s), \"\n",
    "                                \"(SELECT id FROM retrieval_status WHERE status=%(d)s)\"\n",
    "                                \")\",{'a': plan_url, \n",
    "                                     'b': _url, \n",
    "                                     'c': 'PLAN', \n",
    "                                     'd': 'NEW'\n",
    "                                })\n",
    "                    all_urls.append(plan_url)\n",
    "                    \n",
    "    except ValueError as ve:\n",
    "        print \"JSON load failed with this url:\"\n",
    "        print _url\n",
    "        errors.append({'url': _url, 'error': 'JSON load failed', 'message': str(ve)})\n",
    "    except SSLError as se:\n",
    "        print \"SSL Error attempting to negotiate:\"\n",
    "        print _url\n",
    "        errors.append({'url': _url, 'error': 'SSL Error', 'message': str(se)})\n",
    "    except Exception as inst:\n",
    "        print(type(inst))    # the exception instance\n",
    "        print(inst.args)     # arguments stored in .args\n",
    "        print(inst)          # __str__ allows args to be printed directly,\n",
    "        errors.append({'url': _url, 'error': str(type(inst)), 'message': str(inst)})\n",
    "        \n",
    "print len(all_urls)\n",
    "conn.commit()"
   ]
  },
  {
   "cell_type": "code",
   "execution_count": 15,
   "metadata": {
    "collapsed": false
   },
   "outputs": [],
   "source": [
    "# Update the status of the main URL table from the errors list\n",
    "for item in errors:\n",
    "    cur.execute(\"UPDATE urls SET \"\n",
    "                \"status=(SELECT id FROM retrieval_status WHERE status='ERROR'),\"\n",
    "                \"message=%(m)s \"\n",
    "                \"WHERE url=%(u)s\",\n",
    "                {'m': item['message'], 'u': item['url']}\n",
    "               )\n",
    "cur.execute(\"UPDATE urls SET \"\n",
    "            \"status=(SELECT id FROM retrieval_status WHERE status='PROCESSED') \" \n",
    "            \"WHERE status is NULL\"\n",
    "           \n",
    "           )    \n",
    "\n",
    "conn.commit()"
   ]
  },
  {
   "cell_type": "code",
   "execution_count": 31,
   "metadata": {
    "collapsed": false
   },
   "outputs": [],
   "source": [
    "def update_jsonstatus(cursor, line):\n",
    "    try:\n",
    "        a = json.loads(line.strip())\n",
    "        if 's3key' in a:\n",
    "            cur.execute(\"UPDATE jsonurls SET \"\n",
    "                        \"status=(SELECT id FROM retrieval_status WHERE status='PROCESSED'), \"\n",
    "                        \"s3key=%(key)s \"\n",
    "                        \"WHERE url=%(u)s\",\n",
    "                        {'key': a['s3key'], 'u': a['url']}\n",
    "                       )\n",
    "    except ValueError as ve:\n",
    "        pass"
   ]
  },
  {
   "cell_type": "code",
   "execution_count": 32,
   "metadata": {
    "collapsed": false
   },
   "outputs": [],
   "source": [
    "# update the jsonurls table from the results files used in the initial downloads\n",
    "cur = conn.cursor()\n",
    "for fname in ['results-provider-urls.txt', 'results-formulary-urls.txt', 'results-plan-urls.txt']:\n",
    "    with open(fname,'r') as resfile:\n",
    "        for line in resfile.readlines():\n",
    "            update_jsonstatus(cur, line)"
   ]
  },
  {
   "cell_type": "code",
   "execution_count": 33,
   "metadata": {
    "collapsed": true
   },
   "outputs": [],
   "source": [
    "conn.commit()"
   ]
  },
  {
   "cell_type": "markdown",
   "metadata": {},
   "source": [
    "### URL Status\n",
    "\n",
    "At this point we now have all the URLs in a PostgreSQL database in an AWS RDS instance and their status and S3 bucket/key location. From now on we can use the database to keep track of the data update status. There are still 939 URLs that haven't been downloaded, mostly from the Provider collection. We'll fill in that gap with new code that uses the database instead of a file to keep track of status."
   ]
  },
  {
   "cell_type": "code",
   "execution_count": 35,
   "metadata": {
    "collapsed": false
   },
   "outputs": [],
   "source": [
    "# open a new cursor and get all the urls that have no S3 key\n",
    "cur = conn.cursor()\n",
    "cur.execute(\"SELECT url FROM jsonurls WHERE s3key is NULL\")\n",
    "urls = cur.fetchall()"
   ]
  },
  {
   "cell_type": "code",
   "execution_count": null,
   "metadata": {
    "collapsed": true
   },
   "outputs": [],
   "source": [
    "# results come back as tuples, we want the first item in the tuple as the url\n",
    "for t in urls:\n",
    "    _url = t[0]"
   ]
  }
 ],
 "metadata": {
  "kernelspec": {
   "display_name": "Python 2",
   "language": "python",
   "name": "python2"
  },
  "language_info": {
   "codemirror_mode": {
    "name": "ipython",
    "version": 2.0
   },
   "file_extension": ".py",
   "mimetype": "text/x-python",
   "name": "python",
   "nbconvert_exporter": "python",
   "pygments_lexer": "ipython2",
   "version": "2.7.11"
  }
 },
 "nbformat": 4,
 "nbformat_minor": 0
}