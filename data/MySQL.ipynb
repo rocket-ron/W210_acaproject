{
 "cells": [
  {
   "cell_type": "code",
   "execution_count": 1,
   "metadata": {
    "collapsed": false
   },
   "outputs": [],
   "source": [
    "import MySQLdb\n",
    "from MySQLdb import OperationalError"
   ]
  },
  {
   "cell_type": "code",
   "execution_count": 35,
   "metadata": {
    "collapsed": false
   },
   "outputs": [
    {
     "name": "stdout",
     "output_type": "stream",
     "text": [
      "Database version : 5.7.13 \n"
     ]
    }
   ],
   "source": [
    "db = MySQLdb.connect(\"localhost\",\"root\")\n",
    "cursor = db.cursor()\n",
    "cursor.execute(\"SELECT VERSION()\")\n",
    "data = cursor.fetchone()\n",
    "print \"Database version : %s \" % data\n",
    "cursor.close()\n",
    "db.close()"
   ]
  },
  {
   "cell_type": "markdown",
   "metadata": {},
   "source": [
    "## Create PUF URL Tracking Database\n",
    "\n",
    "This is a database with a small number of tables used to track the PUF URLs and their JSON child URLs."
   ]
  },
  {
   "cell_type": "code",
   "execution_count": 36,
   "metadata": {
    "collapsed": true
   },
   "outputs": [],
   "source": [
    "def create_tables(cursor):\n",
    "    cursor.execute(\"CREATE TABLE `mrpuf` (\"\n",
    "        \"  `id` int(11) NOT NULL AUTO_INCREMENT,\"\n",
    "        \"  `url` varchar(255) NOT NULL,\"\n",
    "        \"  PRIMARY KEY (`id`), UNIQUE KEY `url` (`url`)\"\n",
    "        \") ENGINE=InnoDB\")\n",
    "\n",
    "    cursor.execute (\n",
    "        \"CREATE TABLE `puftype` (\"\n",
    "        \"  `id` int(11) NOT NULL AUTO_INCREMENT,\"\n",
    "        \"  `type` varchar(20) NOT NULL,\"\n",
    "        \"  PRIMARY KEY (`id`), UNIQUE KEY `type` (`type`)\"\n",
    "        \") ENGINE=InnoDB\")\n",
    "\n",
    "    cursor.execute (\n",
    "        \"CREATE TABLE `retrieval_status` (\"\n",
    "        \"  `id` int(11) NOT NULL AUTO_INCREMENT,\"\n",
    "        \"  `status` varchar(20) NOT NULL,\"\n",
    "        \"  PRIMARY KEY (`id`), UNIQUE KEY `status` (`status`)\"\n",
    "        \") ENGINE=InnoDB\")\n",
    "\n",
    "    cursor.execute (\n",
    "        \"CREATE TABLE `jsonurls` (\"\n",
    "        \"  `id` int(11) NOT NULL AUTO_INCREMENT,\"\n",
    "        \"  `url` varchar(255) NOT NULL,\"\n",
    "        \"  `parent_url` int(11) NOT NULL,\"\n",
    "        \"  `puf_type` int(11) NOT NULL,\"\n",
    "        \"  `retrieval_status` int(11) NOT NULL,\"\n",
    "        \"  `message` varchar(1024),\"\n",
    "        \"  PRIMARY KEY (`id`),\"\n",
    "        \"  CONSTRAINT `jsonurls_ibfk_1` FOREIGN KEY (`puf_type`) \"\n",
    "        \"     REFERENCES `puftype` (`id`) ON DELETE CASCADE, \"\n",
    "        \"  CONSTRAINT `jsonurls_ibfk_2` FOREIGN KEY (`retrieval_status`) \"\n",
    "        \"     REFERENCES `retrieval_status` (`id`) ON DELETE CASCADE, \"\n",
    "        \"  CONSTRAINT `jsonurls_ibfk3` FOREIGN KEY (`parent_url`) \"\n",
    "        \"     REFERENCES `mrpuf` (`id`) ON DELETE CASCADE\"\n",
    "        \") ENGINE=InnoDB\")"
   ]
  },
  {
   "cell_type": "code",
   "execution_count": 37,
   "metadata": {
    "collapsed": true
   },
   "outputs": [],
   "source": [
    "def create_statics(cursor):\n",
    "    cursor.execute(\"INSERT INTO puftype (type) VALUES ('PROVIDER'),('PLAN'),('FORMULARY')\")\n",
    "    cursor.execute(\"INSERT INTO retrieval_status (status) VALUES ('NEW'),('PROCESSED'),('ERROR')\")"
   ]
  },
  {
   "cell_type": "code",
   "execution_count": 38,
   "metadata": {
    "collapsed": false
   },
   "outputs": [],
   "source": [
    "DB_NAME = 'mrpuf'\n",
    "try:\n",
    "    db = MySQLdb.connect(\"localhost\",\"acauser\", \"password\", db=DB_NAME)\n",
    "    cursor = db.cursor()\n",
    "    cursor.execute(\"DROP DATABASE IF EXISTS mrpuf\".format(DB_NAME))\n",
    "except OperationalError as oe:\n",
    "    pass\n",
    "\n",
    "db = MySQLdb.connect(\"localhost\",\"root\")\n",
    "cursor = db.cursor()\n",
    "cursor.execute('''CREATE DATABASE IF NOT EXISTS {0}'''.format(DB_NAME))\n",
    "cursor.close()\n",
    "db.close()"
   ]
  },
  {
   "cell_type": "code",
   "execution_count": 39,
   "metadata": {
    "collapsed": false
   },
   "outputs": [],
   "source": [
    "db = MySQLdb.connect(\"localhost\",\"acauser\", \"password\", db=DB_NAME)\n",
    "cursor = db.cursor()\n",
    "create_tables(cursor)\n",
    "cursor.close()\n",
    "db.close()\n",
    "\n",
    "db = MySQLdb.connect(\"localhost\",\"acauser\",\"password\", db=DB_NAME)\n",
    "cursor = db.cursor()\n",
    "create_statics(cursor)\n",
    "cursor.close()\n",
    "db.close()"
   ]
  },
  {
   "cell_type": "code",
   "execution_count": 40,
   "metadata": {
    "collapsed": false
   },
   "outputs": [
    {
     "data": {
      "text/plain": [
       "2L"
      ]
     },
     "execution_count": 40,
     "metadata": {},
     "output_type": "execute_result"
    }
   ],
   "source": [
    "# Test an insert into the tables\n",
    "db = MySQLdb.connect(\"localhost\",\"acauser\", \"password\", db=DB_NAME)\n",
    "cursor = db.cursor()\n",
    "\n",
    "# First, insert a PUF URL\n",
    "cursor.execute(\"INSERT INTO mrpuf (url) VALUES ('http://this.com'),('http://that.com')\")"
   ]
  },
  {
   "cell_type": "code",
   "execution_count": 41,
   "metadata": {
    "collapsed": false
   },
   "outputs": [],
   "source": [
    "create_statics(cursor)"
   ]
  },
  {
   "cell_type": "code",
   "execution_count": 42,
   "metadata": {
    "collapsed": false
   },
   "outputs": [
    {
     "data": {
      "text/plain": [
       "1L"
      ]
     },
     "execution_count": 42,
     "metadata": {},
     "output_type": "execute_result"
    }
   ],
   "source": [
    "# Next, insert a row into the jsonurl table that references the mrpuf and status and types tables\n",
    "cursor.execute(\n",
    "    \"INSERT INTO jsonurls (url, parent_url, puf_type, retrieval_status) \"\n",
    "    \"VALUES ('https://providers.json', \"\n",
    "    \"(SELECT ID FROM mrpuf WHERE url='http://this.com'), \"\n",
    "    \"(SELECT ID FROM puftype WHERE type='PROVIDER'), \"\n",
    "    \"(SELECT ID FROM retrieval_status WHERE status='NEW'))\"\n",
    ")"
   ]
  },
  {
   "cell_type": "code",
   "execution_count": 43,
   "metadata": {
    "collapsed": false
   },
   "outputs": [
    {
     "data": {
      "text/plain": [
       "0L"
      ]
     },
     "execution_count": 43,
     "metadata": {},
     "output_type": "execute_result"
    }
   ],
   "source": [
    "db = MySQLdb.connect(\"localhost\",\"acauser\",\"password\", db=DB_NAME)\n",
    "cursor = db.cursor()\n",
    "cursor.execute(\"SELECT * from puftype\")"
   ]
  },
  {
   "cell_type": "code",
   "execution_count": 21,
   "metadata": {
    "collapsed": false
   },
   "outputs": [
    {
     "ename": "ProgrammingError",
     "evalue": "(1064, \"You have an error in your SQL syntax; check the manual that corresponds to your MySQL server version for the right syntax to use near 'ins (url, parent_url, type, status) AS ( VALUES     ( 'https://providers.json','' at line 1\")",
     "output_type": "error",
     "traceback": [
      "\u001b[0;31m---------------------------------------------------------------------------\u001b[0m",
      "\u001b[0;31mProgrammingError\u001b[0m                          Traceback (most recent call last)",
      "\u001b[0;32m<ipython-input-21-b593f41aa92d>\u001b[0m in \u001b[0;36m<module>\u001b[0;34m()\u001b[0m\n\u001b[0;32m----> 1\u001b[0;31m \u001b[0mtest_join\u001b[0m\u001b[0;34m(\u001b[0m\u001b[0mcursor\u001b[0m\u001b[0;34m)\u001b[0m\u001b[0;34m\u001b[0m\u001b[0m\n\u001b[0m",
      "\u001b[0;32m<ipython-input-18-62443792a1fb>\u001b[0m in \u001b[0;36mtest_join\u001b[0;34m(cursor)\u001b[0m\n\u001b[1;32m      1\u001b[0m \u001b[0;32mdef\u001b[0m \u001b[0mtest_join\u001b[0m\u001b[0;34m(\u001b[0m\u001b[0mcursor\u001b[0m\u001b[0;34m)\u001b[0m\u001b[0;34m:\u001b[0m\u001b[0;34m\u001b[0m\u001b[0m\n\u001b[1;32m      2\u001b[0m     cursor.execute(\n\u001b[0;32m----> 3\u001b[0;31m         \u001b[0;34m\"WITH ins (url, parent_url, type, status) AS \"\u001b[0m\u001b[0;34m\u001b[0m\u001b[0m\n\u001b[0m\u001b[1;32m      4\u001b[0m         \u001b[0;34m\"( VALUES \"\u001b[0m\u001b[0;34m\u001b[0m\u001b[0m\n\u001b[1;32m      5\u001b[0m         \u001b[0;34m\"    ( 'https://providers.json','http://this.com', 'PROVIDER', 'NEW' ) ,\"\u001b[0m\u001b[0;34m\u001b[0m\u001b[0m\n",
      "\u001b[0;32m/Users/rcordell/Development/W210_acaproject/W210env/lib/python2.7/site-packages/MySQLdb/cursors.pyc\u001b[0m in \u001b[0;36mexecute\u001b[0;34m(self, query, args)\u001b[0m\n\u001b[1;32m    203\u001b[0m             \u001b[0;32mdel\u001b[0m \u001b[0mtb\u001b[0m\u001b[0;34m\u001b[0m\u001b[0m\n\u001b[1;32m    204\u001b[0m             \u001b[0mself\u001b[0m\u001b[0;34m.\u001b[0m\u001b[0mmessages\u001b[0m\u001b[0;34m.\u001b[0m\u001b[0mappend\u001b[0m\u001b[0;34m(\u001b[0m\u001b[0;34m(\u001b[0m\u001b[0mexc\u001b[0m\u001b[0;34m,\u001b[0m \u001b[0mvalue\u001b[0m\u001b[0;34m)\u001b[0m\u001b[0;34m)\u001b[0m\u001b[0;34m\u001b[0m\u001b[0m\n\u001b[0;32m--> 205\u001b[0;31m             \u001b[0mself\u001b[0m\u001b[0;34m.\u001b[0m\u001b[0merrorhandler\u001b[0m\u001b[0;34m(\u001b[0m\u001b[0mself\u001b[0m\u001b[0;34m,\u001b[0m \u001b[0mexc\u001b[0m\u001b[0;34m,\u001b[0m \u001b[0mvalue\u001b[0m\u001b[0;34m)\u001b[0m\u001b[0;34m\u001b[0m\u001b[0m\n\u001b[0m\u001b[1;32m    206\u001b[0m         \u001b[0mself\u001b[0m\u001b[0;34m.\u001b[0m\u001b[0m_executed\u001b[0m \u001b[0;34m=\u001b[0m \u001b[0mquery\u001b[0m\u001b[0;34m\u001b[0m\u001b[0m\n\u001b[1;32m    207\u001b[0m         \u001b[0;32mif\u001b[0m \u001b[0;32mnot\u001b[0m \u001b[0mself\u001b[0m\u001b[0;34m.\u001b[0m\u001b[0m_defer_warnings\u001b[0m\u001b[0;34m:\u001b[0m \u001b[0mself\u001b[0m\u001b[0;34m.\u001b[0m\u001b[0m_warning_check\u001b[0m\u001b[0;34m(\u001b[0m\u001b[0;34m)\u001b[0m\u001b[0;34m\u001b[0m\u001b[0m\n",
      "\u001b[0;32m/Users/rcordell/Development/W210_acaproject/W210env/lib/python2.7/site-packages/MySQLdb/connections.pyc\u001b[0m in \u001b[0;36mdefaulterrorhandler\u001b[0;34m(***failed resolving arguments***)\u001b[0m\n\u001b[1;32m     34\u001b[0m     \u001b[0;32mdel\u001b[0m \u001b[0mcursor\u001b[0m\u001b[0;34m\u001b[0m\u001b[0m\n\u001b[1;32m     35\u001b[0m     \u001b[0;32mdel\u001b[0m \u001b[0mconnection\u001b[0m\u001b[0;34m\u001b[0m\u001b[0m\n\u001b[0;32m---> 36\u001b[0;31m     \u001b[0;32mraise\u001b[0m \u001b[0merrorclass\u001b[0m\u001b[0;34m,\u001b[0m \u001b[0merrorvalue\u001b[0m\u001b[0;34m\u001b[0m\u001b[0m\n\u001b[0m\u001b[1;32m     37\u001b[0m \u001b[0;34m\u001b[0m\u001b[0m\n\u001b[1;32m     38\u001b[0m \u001b[0mre_numeric_part\u001b[0m \u001b[0;34m=\u001b[0m \u001b[0mre\u001b[0m\u001b[0;34m.\u001b[0m\u001b[0mcompile\u001b[0m\u001b[0;34m(\u001b[0m\u001b[0;34mr\"^(\\d+)\"\u001b[0m\u001b[0;34m)\u001b[0m\u001b[0;34m\u001b[0m\u001b[0m\n",
      "\u001b[0;31mProgrammingError\u001b[0m: (1064, \"You have an error in your SQL syntax; check the manual that corresponds to your MySQL server version for the right syntax to use near 'ins (url, parent_url, type, status) AS ( VALUES     ( 'https://providers.json','' at line 1\")"
     ]
    }
   ],
   "source": [
    "test_join(cursor)"
   ]
  },
  {
   "cell_type": "code",
   "execution_count": 121,
   "metadata": {
    "collapsed": false
   },
   "outputs": [
    {
     "data": {
      "text/plain": [
       "3L"
      ]
     },
     "execution_count": 121,
     "metadata": {},
     "output_type": "execute_result"
    }
   ],
   "source": [
    "cursor.execute(\"INSERT INTO puftype (puf_type) VALUES ('provider'),('plan'),('formulary')\")"
   ]
  },
  {
   "cell_type": "code",
   "execution_count": 22,
   "metadata": {
    "collapsed": true
   },
   "outputs": [],
   "source": [
    "cursor.close()\n",
    "db.close()"
   ]
  },
  {
   "cell_type": "code",
   "execution_count": 18,
   "metadata": {
    "collapsed": false
   },
   "outputs": [],
   "source": [
    "def test_join(cursor):\n",
    "    cursor.execute(\n",
    "        \"WITH ins (url, parent_url, type, status) AS \"\n",
    "        \"( VALUES \"\n",
    "        \"    ( 'https://providers.json','http://this.com', 'PROVIDER', 'NEW' ) ,\"\n",
    "        \"    ( 'https://plans.json','http://that.com', 'PLAN', 'NEW' ) \"\n",
    "        \")\"  \n",
    "        \"INSERT INTO jsonurls \"\n",
    "        \"   (url, parent_url, type, status) \"\n",
    "        \"SELECT \"\n",
    "        \"    ins.url, pufurl.url, puftype.type, retrieval_status.status \"\n",
    "        \"FROM \"\n",
    "        \"  pufurl JOIN ins \"\n",
    "        \"    ON ins.parent_url = pufurl.url \"\n",
    "        \"UNION \"\n",
    "        \" puftype JOIN ins \"\n",
    "        \"    ON ins.type = putftyp.type \"\n",
    "        \"UNION \"\n",
    "        \" retrieval_status JOIN ins \"\n",
    "        \"    ON ins.status = retrieval_status.status\"\n",
    "        )"
   ]
  },
  {
   "cell_type": "code",
   "execution_count": null,
   "metadata": {
    "collapsed": true
   },
   "outputs": [],
   "source": []
  }
 ],
 "metadata": {
  "kernelspec": {
   "display_name": "Python 2",
   "language": "python",
   "name": "python2"
  },
  "language_info": {
   "codemirror_mode": {
    "name": "ipython",
    "version": 2
   },
   "file_extension": ".py",
   "mimetype": "text/x-python",
   "name": "python",
   "nbconvert_exporter": "python",
   "pygments_lexer": "ipython2",
   "version": "2.7.11"
  }
 },
 "nbformat": 4,
 "nbformat_minor": 0
}
